{
 "cells": [
  {
   "cell_type": "markdown",
   "source": [
    "# Import necessary modules"
   ],
   "metadata": {
    "collapsed": false
   }
  },
  {
   "cell_type": "code",
   "execution_count": 1,
   "metadata": {
    "collapsed": true,
    "ExecuteTime": {
     "end_time": "2024-03-26T13:26:52.149792100Z",
     "start_time": "2024-03-26T13:26:52.136833200Z"
    }
   },
   "outputs": [],
   "source": [
    "import numpy as np\n",
    "import pandas as pd\n",
    "import matplotlib.pyplot as plt\n",
    "import seaborn as sns"
   ]
  },
  {
   "cell_type": "markdown",
   "source": [
    "# Read data using pandas"
   ],
   "metadata": {
    "collapsed": false
   }
  },
  {
   "cell_type": "code",
   "execution_count": null,
   "outputs": [],
   "source": [
    "# Using gbk encoder which supports china characters.\n",
    "df = pd.read_csv(\"housing_data.csv\", encoding='gbk')"
   ],
   "metadata": {
    "collapsed": false
   }
  },
  {
   "cell_type": "code",
   "execution_count": 11,
   "outputs": [
    {
     "data": {
      "text/plain": "   Unnamed: 0                                                url  \\\n0           0  https://bj.lianjia.com/chengjiao/101084782030....   \n1           1  https://bj.lianjia.com/chengjiao/101086012217....   \n2           2  https://bj.lianjia.com/chengjiao/101086041636....   \n3           3  https://bj.lianjia.com/chengjiao/101086406841....   \n4           4  https://bj.lianjia.com/chengjiao/101086920653....   \n\n             id         Lng        Lat            Cid   tradeTime     DOM  \\\n0  101084782030  116.475489  40.019520  1111027376244  2016-08-09  1464.0   \n1  101086012217  116.453917  39.881534  1111027381879  2016-07-28   903.0   \n2  101086041636  116.561978  39.877145  1111040862969  2016-12-11  1271.0   \n3  101086406841  116.438010  40.076114  1111043185817  2016-09-30   965.0   \n4  101086920653  116.428392  39.886229  1111027381174  2016-08-28   927.0   \n\n   totalPrice  square  ... kitchen bathRoom  floor constructionTime  \\\n0       415.0  131.00  ...       1        1   高 26             2005   \n1       575.0  132.38  ...       1        2   高 22             2004   \n2      1030.0  198.00  ...       1        3    中 4             2005   \n3       297.5  134.00  ...       1        1   底 21             2008   \n4       392.0   81.00  ...       1        1    中 6             1960   \n\n  renovationCondition buildingStructure  ladderRatio  elevator  subway  \\\n0                   3                 6        0.217       1.0     1.0   \n1                   4                 6        0.667       1.0     0.0   \n2                   3                 6        0.500       1.0     0.0   \n3                   1                 6        0.273       1.0     0.0   \n4                   2                 2        0.333       0.0     1.0   \n\n   district  \n0         7  \n1         7  \n2         7  \n3         6  \n4         1  \n\n[5 rows x 22 columns]",
      "text/html": "<div>\n<style scoped>\n    .dataframe tbody tr th:only-of-type {\n        vertical-align: middle;\n    }\n\n    .dataframe tbody tr th {\n        vertical-align: top;\n    }\n\n    .dataframe thead th {\n        text-align: right;\n    }\n</style>\n<table border=\"1\" class=\"dataframe\">\n  <thead>\n    <tr style=\"text-align: right;\">\n      <th></th>\n      <th>Unnamed: 0</th>\n      <th>url</th>\n      <th>id</th>\n      <th>Lng</th>\n      <th>Lat</th>\n      <th>Cid</th>\n      <th>tradeTime</th>\n      <th>DOM</th>\n      <th>totalPrice</th>\n      <th>square</th>\n      <th>...</th>\n      <th>kitchen</th>\n      <th>bathRoom</th>\n      <th>floor</th>\n      <th>constructionTime</th>\n      <th>renovationCondition</th>\n      <th>buildingStructure</th>\n      <th>ladderRatio</th>\n      <th>elevator</th>\n      <th>subway</th>\n      <th>district</th>\n    </tr>\n  </thead>\n  <tbody>\n    <tr>\n      <th>0</th>\n      <td>0</td>\n      <td>https://bj.lianjia.com/chengjiao/101084782030....</td>\n      <td>101084782030</td>\n      <td>116.475489</td>\n      <td>40.019520</td>\n      <td>1111027376244</td>\n      <td>2016-08-09</td>\n      <td>1464.0</td>\n      <td>415.0</td>\n      <td>131.00</td>\n      <td>...</td>\n      <td>1</td>\n      <td>1</td>\n      <td>高 26</td>\n      <td>2005</td>\n      <td>3</td>\n      <td>6</td>\n      <td>0.217</td>\n      <td>1.0</td>\n      <td>1.0</td>\n      <td>7</td>\n    </tr>\n    <tr>\n      <th>1</th>\n      <td>1</td>\n      <td>https://bj.lianjia.com/chengjiao/101086012217....</td>\n      <td>101086012217</td>\n      <td>116.453917</td>\n      <td>39.881534</td>\n      <td>1111027381879</td>\n      <td>2016-07-28</td>\n      <td>903.0</td>\n      <td>575.0</td>\n      <td>132.38</td>\n      <td>...</td>\n      <td>1</td>\n      <td>2</td>\n      <td>高 22</td>\n      <td>2004</td>\n      <td>4</td>\n      <td>6</td>\n      <td>0.667</td>\n      <td>1.0</td>\n      <td>0.0</td>\n      <td>7</td>\n    </tr>\n    <tr>\n      <th>2</th>\n      <td>2</td>\n      <td>https://bj.lianjia.com/chengjiao/101086041636....</td>\n      <td>101086041636</td>\n      <td>116.561978</td>\n      <td>39.877145</td>\n      <td>1111040862969</td>\n      <td>2016-12-11</td>\n      <td>1271.0</td>\n      <td>1030.0</td>\n      <td>198.00</td>\n      <td>...</td>\n      <td>1</td>\n      <td>3</td>\n      <td>中 4</td>\n      <td>2005</td>\n      <td>3</td>\n      <td>6</td>\n      <td>0.500</td>\n      <td>1.0</td>\n      <td>0.0</td>\n      <td>7</td>\n    </tr>\n    <tr>\n      <th>3</th>\n      <td>3</td>\n      <td>https://bj.lianjia.com/chengjiao/101086406841....</td>\n      <td>101086406841</td>\n      <td>116.438010</td>\n      <td>40.076114</td>\n      <td>1111043185817</td>\n      <td>2016-09-30</td>\n      <td>965.0</td>\n      <td>297.5</td>\n      <td>134.00</td>\n      <td>...</td>\n      <td>1</td>\n      <td>1</td>\n      <td>底 21</td>\n      <td>2008</td>\n      <td>1</td>\n      <td>6</td>\n      <td>0.273</td>\n      <td>1.0</td>\n      <td>0.0</td>\n      <td>6</td>\n    </tr>\n    <tr>\n      <th>4</th>\n      <td>4</td>\n      <td>https://bj.lianjia.com/chengjiao/101086920653....</td>\n      <td>101086920653</td>\n      <td>116.428392</td>\n      <td>39.886229</td>\n      <td>1111027381174</td>\n      <td>2016-08-28</td>\n      <td>927.0</td>\n      <td>392.0</td>\n      <td>81.00</td>\n      <td>...</td>\n      <td>1</td>\n      <td>1</td>\n      <td>中 6</td>\n      <td>1960</td>\n      <td>2</td>\n      <td>2</td>\n      <td>0.333</td>\n      <td>0.0</td>\n      <td>1.0</td>\n      <td>1</td>\n    </tr>\n  </tbody>\n</table>\n<p>5 rows × 22 columns</p>\n</div>"
     },
     "execution_count": 11,
     "metadata": {},
     "output_type": "execute_result"
    }
   ],
   "source": [
    "df.head()"
   ],
   "metadata": {
    "collapsed": false,
    "ExecuteTime": {
     "end_time": "2024-03-26T13:34:25.695814500Z",
     "start_time": "2024-03-26T13:34:25.680949100Z"
    }
   }
  },
  {
   "cell_type": "markdown",
   "source": [
    "# shape and columns"
   ],
   "metadata": {
    "collapsed": false
   }
  },
  {
   "cell_type": "code",
   "execution_count": 12,
   "outputs": [
    {
     "data": {
      "text/plain": "(318851, 22)"
     },
     "execution_count": 12,
     "metadata": {},
     "output_type": "execute_result"
    }
   ],
   "source": [
    "df.shape"
   ],
   "metadata": {
    "collapsed": false,
    "ExecuteTime": {
     "end_time": "2024-03-26T13:36:03.603685300Z",
     "start_time": "2024-03-26T13:36:03.595115400Z"
    }
   }
  },
  {
   "cell_type": "code",
   "execution_count": 14,
   "outputs": [
    {
     "data": {
      "text/plain": "Index(['Unnamed: 0', 'url', 'id', 'Lng', 'Lat', 'Cid', 'tradeTime', 'DOM',\n       'totalPrice', 'square', 'livingRoom', 'drawingRoom', 'kitchen',\n       'bathRoom', 'floor', 'constructionTime', 'renovationCondition',\n       'buildingStructure', 'ladderRatio', 'elevator', 'subway', 'district'],\n      dtype='object')"
     },
     "execution_count": 14,
     "metadata": {},
     "output_type": "execute_result"
    }
   ],
   "source": [
    "df.columns"
   ],
   "metadata": {
    "collapsed": false,
    "ExecuteTime": {
     "end_time": "2024-03-26T13:45:18.247979100Z",
     "start_time": "2024-03-26T13:45:18.240247200Z"
    }
   }
  },
  {
   "cell_type": "markdown",
   "source": [
    "# Remove unnecessary columns"
   ],
   "metadata": {
    "collapsed": false
   }
  },
  {
   "cell_type": "code",
   "execution_count": 15,
   "outputs": [],
   "source": [
    "housing_dropped = df.drop(columns=[\"Cid\", \"id\", \"url\", \"Unnamed: 0\"])"
   ],
   "metadata": {
    "collapsed": false,
    "ExecuteTime": {
     "end_time": "2024-03-26T13:46:12.681120600Z",
     "start_time": "2024-03-26T13:46:12.659211100Z"
    }
   }
  },
  {
   "cell_type": "markdown",
   "source": [
    "# Creating DataFrame with null values in columns"
   ],
   "metadata": {
    "collapsed": false
   }
  },
  {
   "cell_type": "code",
   "execution_count": 19,
   "outputs": [],
   "source": [
    "null_dataSeries = housing_dropped.isna().sum()\n",
    "housing_null = pd.DataFrame(null_dataSeries, columns=[\"0\"])"
   ],
   "metadata": {
    "collapsed": false,
    "ExecuteTime": {
     "end_time": "2024-03-26T14:01:57.377543300Z",
     "start_time": "2024-03-26T14:01:57.318702Z"
    }
   }
  },
  {
   "cell_type": "code",
   "execution_count": 20,
   "outputs": [
    {
     "data": {
      "text/plain": "                          0\nLng                       0\nLat                       0\ntradeTime                 0\nDOM                  157977\ntotalPrice                0\nsquare                    0\nlivingRoom                0\ndrawingRoom               0\nkitchen                   0\nbathRoom                  0\nfloor                     0\nconstructionTime          0\nrenovationCondition       0\nbuildingStructure         0\nladderRatio               0\nelevator                 32\nsubway                   32\ndistrict                  0",
      "text/html": "<div>\n<style scoped>\n    .dataframe tbody tr th:only-of-type {\n        vertical-align: middle;\n    }\n\n    .dataframe tbody tr th {\n        vertical-align: top;\n    }\n\n    .dataframe thead th {\n        text-align: right;\n    }\n</style>\n<table border=\"1\" class=\"dataframe\">\n  <thead>\n    <tr style=\"text-align: right;\">\n      <th></th>\n      <th>0</th>\n    </tr>\n  </thead>\n  <tbody>\n    <tr>\n      <th>Lng</th>\n      <td>0</td>\n    </tr>\n    <tr>\n      <th>Lat</th>\n      <td>0</td>\n    </tr>\n    <tr>\n      <th>tradeTime</th>\n      <td>0</td>\n    </tr>\n    <tr>\n      <th>DOM</th>\n      <td>157977</td>\n    </tr>\n    <tr>\n      <th>totalPrice</th>\n      <td>0</td>\n    </tr>\n    <tr>\n      <th>square</th>\n      <td>0</td>\n    </tr>\n    <tr>\n      <th>livingRoom</th>\n      <td>0</td>\n    </tr>\n    <tr>\n      <th>drawingRoom</th>\n      <td>0</td>\n    </tr>\n    <tr>\n      <th>kitchen</th>\n      <td>0</td>\n    </tr>\n    <tr>\n      <th>bathRoom</th>\n      <td>0</td>\n    </tr>\n    <tr>\n      <th>floor</th>\n      <td>0</td>\n    </tr>\n    <tr>\n      <th>constructionTime</th>\n      <td>0</td>\n    </tr>\n    <tr>\n      <th>renovationCondition</th>\n      <td>0</td>\n    </tr>\n    <tr>\n      <th>buildingStructure</th>\n      <td>0</td>\n    </tr>\n    <tr>\n      <th>ladderRatio</th>\n      <td>0</td>\n    </tr>\n    <tr>\n      <th>elevator</th>\n      <td>32</td>\n    </tr>\n    <tr>\n      <th>subway</th>\n      <td>32</td>\n    </tr>\n    <tr>\n      <th>district</th>\n      <td>0</td>\n    </tr>\n  </tbody>\n</table>\n</div>"
     },
     "execution_count": 20,
     "metadata": {},
     "output_type": "execute_result"
    }
   ],
   "source": [
    "housing_null"
   ],
   "metadata": {
    "collapsed": false,
    "ExecuteTime": {
     "end_time": "2024-03-26T14:01:58.920697500Z",
     "start_time": "2024-03-26T14:01:58.912236Z"
    }
   }
  }
 ],
 "metadata": {
  "kernelspec": {
   "name": "queraenv",
   "language": "python",
   "display_name": "QueraEnv"
  },
  "language_info": {
   "codemirror_mode": {
    "name": "ipython",
    "version": 2
   },
   "file_extension": ".py",
   "mimetype": "text/x-python",
   "name": "python",
   "nbconvert_exporter": "python",
   "pygments_lexer": "ipython2",
   "version": "2.7.6"
  }
 },
 "nbformat": 4,
 "nbformat_minor": 0
}
