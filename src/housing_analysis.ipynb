{
 "cells": [
  {
   "cell_type": "markdown",
   "source": [
    "# Import necessary modules"
   ],
   "metadata": {
    "collapsed": false
   }
  },
  {
   "cell_type": "code",
   "execution_count": 1,
   "metadata": {
    "collapsed": true,
    "ExecuteTime": {
     "end_time": "2024-03-27T14:06:43.236633Z",
     "start_time": "2024-03-27T14:06:43.232634100Z"
    }
   },
   "outputs": [],
   "source": [
    "import numpy as np\n",
    "import pandas as pd\n",
    "import matplotlib.pyplot as plt\n",
    "import seaborn as sns"
   ]
  },
  {
   "cell_type": "markdown",
   "source": [
    "# Read data using pandas"
   ],
   "metadata": {
    "collapsed": false
   }
  },
  {
   "cell_type": "code",
   "execution_count": null,
   "outputs": [],
   "source": [
    "# Using gbk encoder which supports china characters.\n",
    "df = pd.read_csv(\"housing_data.csv\", encoding='gbk')"
   ],
   "metadata": {
    "collapsed": false
   }
  },
  {
   "cell_type": "code",
   "execution_count": 3,
   "outputs": [
    {
     "data": {
      "text/plain": "   Unnamed: 0                                                url  \\\n0           0  https://bj.lianjia.com/chengjiao/101084782030....   \n1           1  https://bj.lianjia.com/chengjiao/101086012217....   \n2           2  https://bj.lianjia.com/chengjiao/101086041636....   \n3           3  https://bj.lianjia.com/chengjiao/101086406841....   \n4           4  https://bj.lianjia.com/chengjiao/101086920653....   \n\n             id         Lng        Lat            Cid   tradeTime     DOM  \\\n0  101084782030  116.475489  40.019520  1111027376244  2016-08-09  1464.0   \n1  101086012217  116.453917  39.881534  1111027381879  2016-07-28   903.0   \n2  101086041636  116.561978  39.877145  1111040862969  2016-12-11  1271.0   \n3  101086406841  116.438010  40.076114  1111043185817  2016-09-30   965.0   \n4  101086920653  116.428392  39.886229  1111027381174  2016-08-28   927.0   \n\n   totalPrice  square  ... kitchen bathRoom  floor constructionTime  \\\n0       415.0  131.00  ...       1        1   高 26             2005   \n1       575.0  132.38  ...       1        2   高 22             2004   \n2      1030.0  198.00  ...       1        3    中 4             2005   \n3       297.5  134.00  ...       1        1   底 21             2008   \n4       392.0   81.00  ...       1        1    中 6             1960   \n\n  renovationCondition buildingStructure  ladderRatio  elevator  subway  \\\n0                   3                 6        0.217       1.0     1.0   \n1                   4                 6        0.667       1.0     0.0   \n2                   3                 6        0.500       1.0     0.0   \n3                   1                 6        0.273       1.0     0.0   \n4                   2                 2        0.333       0.0     1.0   \n\n   district  \n0         7  \n1         7  \n2         7  \n3         6  \n4         1  \n\n[5 rows x 22 columns]",
      "text/html": "<div>\n<style scoped>\n    .dataframe tbody tr th:only-of-type {\n        vertical-align: middle;\n    }\n\n    .dataframe tbody tr th {\n        vertical-align: top;\n    }\n\n    .dataframe thead th {\n        text-align: right;\n    }\n</style>\n<table border=\"1\" class=\"dataframe\">\n  <thead>\n    <tr style=\"text-align: right;\">\n      <th></th>\n      <th>Unnamed: 0</th>\n      <th>url</th>\n      <th>id</th>\n      <th>Lng</th>\n      <th>Lat</th>\n      <th>Cid</th>\n      <th>tradeTime</th>\n      <th>DOM</th>\n      <th>totalPrice</th>\n      <th>square</th>\n      <th>...</th>\n      <th>kitchen</th>\n      <th>bathRoom</th>\n      <th>floor</th>\n      <th>constructionTime</th>\n      <th>renovationCondition</th>\n      <th>buildingStructure</th>\n      <th>ladderRatio</th>\n      <th>elevator</th>\n      <th>subway</th>\n      <th>district</th>\n    </tr>\n  </thead>\n  <tbody>\n    <tr>\n      <th>0</th>\n      <td>0</td>\n      <td>https://bj.lianjia.com/chengjiao/101084782030....</td>\n      <td>101084782030</td>\n      <td>116.475489</td>\n      <td>40.019520</td>\n      <td>1111027376244</td>\n      <td>2016-08-09</td>\n      <td>1464.0</td>\n      <td>415.0</td>\n      <td>131.00</td>\n      <td>...</td>\n      <td>1</td>\n      <td>1</td>\n      <td>高 26</td>\n      <td>2005</td>\n      <td>3</td>\n      <td>6</td>\n      <td>0.217</td>\n      <td>1.0</td>\n      <td>1.0</td>\n      <td>7</td>\n    </tr>\n    <tr>\n      <th>1</th>\n      <td>1</td>\n      <td>https://bj.lianjia.com/chengjiao/101086012217....</td>\n      <td>101086012217</td>\n      <td>116.453917</td>\n      <td>39.881534</td>\n      <td>1111027381879</td>\n      <td>2016-07-28</td>\n      <td>903.0</td>\n      <td>575.0</td>\n      <td>132.38</td>\n      <td>...</td>\n      <td>1</td>\n      <td>2</td>\n      <td>高 22</td>\n      <td>2004</td>\n      <td>4</td>\n      <td>6</td>\n      <td>0.667</td>\n      <td>1.0</td>\n      <td>0.0</td>\n      <td>7</td>\n    </tr>\n    <tr>\n      <th>2</th>\n      <td>2</td>\n      <td>https://bj.lianjia.com/chengjiao/101086041636....</td>\n      <td>101086041636</td>\n      <td>116.561978</td>\n      <td>39.877145</td>\n      <td>1111040862969</td>\n      <td>2016-12-11</td>\n      <td>1271.0</td>\n      <td>1030.0</td>\n      <td>198.00</td>\n      <td>...</td>\n      <td>1</td>\n      <td>3</td>\n      <td>中 4</td>\n      <td>2005</td>\n      <td>3</td>\n      <td>6</td>\n      <td>0.500</td>\n      <td>1.0</td>\n      <td>0.0</td>\n      <td>7</td>\n    </tr>\n    <tr>\n      <th>3</th>\n      <td>3</td>\n      <td>https://bj.lianjia.com/chengjiao/101086406841....</td>\n      <td>101086406841</td>\n      <td>116.438010</td>\n      <td>40.076114</td>\n      <td>1111043185817</td>\n      <td>2016-09-30</td>\n      <td>965.0</td>\n      <td>297.5</td>\n      <td>134.00</td>\n      <td>...</td>\n      <td>1</td>\n      <td>1</td>\n      <td>底 21</td>\n      <td>2008</td>\n      <td>1</td>\n      <td>6</td>\n      <td>0.273</td>\n      <td>1.0</td>\n      <td>0.0</td>\n      <td>6</td>\n    </tr>\n    <tr>\n      <th>4</th>\n      <td>4</td>\n      <td>https://bj.lianjia.com/chengjiao/101086920653....</td>\n      <td>101086920653</td>\n      <td>116.428392</td>\n      <td>39.886229</td>\n      <td>1111027381174</td>\n      <td>2016-08-28</td>\n      <td>927.0</td>\n      <td>392.0</td>\n      <td>81.00</td>\n      <td>...</td>\n      <td>1</td>\n      <td>1</td>\n      <td>中 6</td>\n      <td>1960</td>\n      <td>2</td>\n      <td>2</td>\n      <td>0.333</td>\n      <td>0.0</td>\n      <td>1.0</td>\n      <td>1</td>\n    </tr>\n  </tbody>\n</table>\n<p>5 rows × 22 columns</p>\n</div>"
     },
     "execution_count": 3,
     "metadata": {},
     "output_type": "execute_result"
    }
   ],
   "source": [
    "df.head()"
   ],
   "metadata": {
    "collapsed": false,
    "ExecuteTime": {
     "end_time": "2024-03-27T14:06:44.581709300Z",
     "start_time": "2024-03-27T14:06:44.438276800Z"
    }
   }
  },
  {
   "cell_type": "markdown",
   "source": [
    "# shape and columns"
   ],
   "metadata": {
    "collapsed": false
   }
  },
  {
   "cell_type": "code",
   "execution_count": 4,
   "outputs": [
    {
     "data": {
      "text/plain": "(318851, 22)"
     },
     "execution_count": 4,
     "metadata": {},
     "output_type": "execute_result"
    }
   ],
   "source": [
    "df.shape"
   ],
   "metadata": {
    "collapsed": false,
    "ExecuteTime": {
     "end_time": "2024-03-27T14:06:44.587696200Z",
     "start_time": "2024-03-27T14:06:44.580583900Z"
    }
   }
  },
  {
   "cell_type": "code",
   "execution_count": 5,
   "outputs": [
    {
     "data": {
      "text/plain": "Index(['Unnamed: 0', 'url', 'id', 'Lng', 'Lat', 'Cid', 'tradeTime', 'DOM',\n       'totalPrice', 'square', 'livingRoom', 'drawingRoom', 'kitchen',\n       'bathRoom', 'floor', 'constructionTime', 'renovationCondition',\n       'buildingStructure', 'ladderRatio', 'elevator', 'subway', 'district'],\n      dtype='object')"
     },
     "execution_count": 5,
     "metadata": {},
     "output_type": "execute_result"
    }
   ],
   "source": [
    "df.columns"
   ],
   "metadata": {
    "collapsed": false,
    "ExecuteTime": {
     "end_time": "2024-03-27T14:06:44.610077600Z",
     "start_time": "2024-03-27T14:06:44.584705Z"
    }
   }
  },
  {
   "cell_type": "markdown",
   "source": [
    "# Remove unnecessary columns"
   ],
   "metadata": {
    "collapsed": false
   }
  },
  {
   "cell_type": "code",
   "execution_count": 6,
   "outputs": [],
   "source": [
    "housing_dropped = df.drop(columns=[\"Cid\", \"id\", \"url\", \"Unnamed: 0\"])"
   ],
   "metadata": {
    "collapsed": false,
    "ExecuteTime": {
     "end_time": "2024-03-27T14:06:44.696135Z",
     "start_time": "2024-03-27T14:06:44.593110300Z"
    }
   }
  },
  {
   "cell_type": "markdown",
   "source": [
    "# Creating DataFrame with null values in columns"
   ],
   "metadata": {
    "collapsed": false
   }
  },
  {
   "cell_type": "code",
   "execution_count": 7,
   "outputs": [],
   "source": [
    "null_dataSeries = housing_dropped.isna().sum()\n",
    "housing_null = pd.DataFrame(null_dataSeries, columns=[\"0\"])"
   ],
   "metadata": {
    "collapsed": false,
    "ExecuteTime": {
     "end_time": "2024-03-27T14:06:44.819817400Z",
     "start_time": "2024-03-27T14:06:44.635415Z"
    }
   }
  },
  {
   "cell_type": "code",
   "execution_count": 8,
   "outputs": [
    {
     "data": {
      "text/plain": "                          0\nLng                       0\nLat                       0\ntradeTime                 0\nDOM                  157977\ntotalPrice                0\nsquare                    0\nlivingRoom                0\ndrawingRoom               0\nkitchen                   0\nbathRoom                  0\nfloor                     0\nconstructionTime          0\nrenovationCondition       0\nbuildingStructure         0\nladderRatio               0\nelevator                 32\nsubway                   32\ndistrict                  0",
      "text/html": "<div>\n<style scoped>\n    .dataframe tbody tr th:only-of-type {\n        vertical-align: middle;\n    }\n\n    .dataframe tbody tr th {\n        vertical-align: top;\n    }\n\n    .dataframe thead th {\n        text-align: right;\n    }\n</style>\n<table border=\"1\" class=\"dataframe\">\n  <thead>\n    <tr style=\"text-align: right;\">\n      <th></th>\n      <th>0</th>\n    </tr>\n  </thead>\n  <tbody>\n    <tr>\n      <th>Lng</th>\n      <td>0</td>\n    </tr>\n    <tr>\n      <th>Lat</th>\n      <td>0</td>\n    </tr>\n    <tr>\n      <th>tradeTime</th>\n      <td>0</td>\n    </tr>\n    <tr>\n      <th>DOM</th>\n      <td>157977</td>\n    </tr>\n    <tr>\n      <th>totalPrice</th>\n      <td>0</td>\n    </tr>\n    <tr>\n      <th>square</th>\n      <td>0</td>\n    </tr>\n    <tr>\n      <th>livingRoom</th>\n      <td>0</td>\n    </tr>\n    <tr>\n      <th>drawingRoom</th>\n      <td>0</td>\n    </tr>\n    <tr>\n      <th>kitchen</th>\n      <td>0</td>\n    </tr>\n    <tr>\n      <th>bathRoom</th>\n      <td>0</td>\n    </tr>\n    <tr>\n      <th>floor</th>\n      <td>0</td>\n    </tr>\n    <tr>\n      <th>constructionTime</th>\n      <td>0</td>\n    </tr>\n    <tr>\n      <th>renovationCondition</th>\n      <td>0</td>\n    </tr>\n    <tr>\n      <th>buildingStructure</th>\n      <td>0</td>\n    </tr>\n    <tr>\n      <th>ladderRatio</th>\n      <td>0</td>\n    </tr>\n    <tr>\n      <th>elevator</th>\n      <td>32</td>\n    </tr>\n    <tr>\n      <th>subway</th>\n      <td>32</td>\n    </tr>\n    <tr>\n      <th>district</th>\n      <td>0</td>\n    </tr>\n  </tbody>\n</table>\n</div>"
     },
     "execution_count": 8,
     "metadata": {},
     "output_type": "execute_result"
    }
   ],
   "source": [
    "housing_null"
   ],
   "metadata": {
    "collapsed": false,
    "ExecuteTime": {
     "end_time": "2024-03-27T14:06:44.820813900Z",
     "start_time": "2024-03-27T14:06:44.696135Z"
    }
   }
  },
  {
   "cell_type": "markdown",
   "source": [
    "#  cleaning missing values"
   ],
   "metadata": {
    "collapsed": false
   }
  },
  {
   "cell_type": "code",
   "execution_count": 9,
   "outputs": [
    {
     "data": {
      "text/plain": "<Figure size 640x480 with 1 Axes>",
      "image/png": "[encoded data removed]"
     },
     "metadata": {},
     "output_type": "display_data"
    }
   ],
   "source": [
    "# Analyzing DOM column box plot\n",
    "housing_dropped.DOM.plot(kind = \"box\");"
   ],
   "metadata": {
    "collapsed": false,
    "ExecuteTime": {
     "end_time": "2024-03-27T14:06:45.792514600Z",
     "start_time": "2024-03-27T14:06:44.703130200Z"
    }
   }
  },
  {
   "cell_type": "markdown",
   "source": [
    "### we have so many outliers, so we should use mode of DOM column to fill the missing values"
   ],
   "metadata": {
    "collapsed": false
   }
  },
  {
   "cell_type": "code",
   "execution_count": 10,
   "outputs": [],
   "source": [
    "# creating a copy of our dataframe\n",
    "housing_no_missing = housing_dropped.copy()"
   ],
   "metadata": {
    "collapsed": false,
    "ExecuteTime": {
     "end_time": "2024-03-27T14:06:45.793018500Z",
     "start_time": "2024-03-27T14:06:45.791598500Z"
    }
   }
  },
  {
   "cell_type": "code",
   "execution_count": 11,
   "outputs": [],
   "source": [
    "# filling DOM missing values with its mode.\n",
    "mode_value = housing_dropped[\"DOM\"].mode()[0]\n",
    "housing_no_missing[\"DOM\"] = housing_no_missing[\"DOM\"].fillna(mode_value)"
   ],
   "metadata": {
    "collapsed": false,
    "ExecuteTime": {
     "end_time": "2024-03-27T14:06:45.823409100Z",
     "start_time": "2024-03-27T14:06:45.793018500Z"
    }
   }
  },
  {
   "cell_type": "code",
   "execution_count": 12,
   "outputs": [
    {
     "data": {
      "text/plain": "1.0"
     },
     "execution_count": 12,
     "metadata": {},
     "output_type": "execute_result"
    }
   ],
   "source": [
    "mode_value"
   ],
   "metadata": {
    "collapsed": false,
    "ExecuteTime": {
     "end_time": "2024-03-27T14:06:45.936065Z",
     "start_time": "2024-03-27T14:06:45.823409100Z"
    }
   }
  },
  {
   "cell_type": "markdown",
   "source": [
    "### removing rows which have missing values in elevator or subway column"
   ],
   "metadata": {
    "collapsed": false
   }
  },
  {
   "cell_type": "code",
   "execution_count": 13,
   "outputs": [],
   "source": [
    "housing_no_missing.dropna(subset=[\"elevator\", \"subway\"], inplace=True)"
   ],
   "metadata": {
    "collapsed": false,
    "ExecuteTime": {
     "end_time": "2024-03-27T14:06:45.937062100Z",
     "start_time": "2024-03-27T14:06:45.824406600Z"
    }
   }
  },
  {
   "cell_type": "code",
   "execution_count": 14,
   "outputs": [
    {
     "name": "stdout",
     "output_type": "stream",
     "text": [
      "<class 'pandas.core.frame.DataFrame'>\n",
      "Index: 318819 entries, 0 to 318850\n",
      "Data columns (total 18 columns):\n",
      " #   Column               Non-Null Count   Dtype  \n",
      "---  ------               --------------   -----  \n",
      " 0   Lng                  318819 non-null  float64\n",
      " 1   Lat                  318819 non-null  float64\n",
      " 2   tradeTime            318819 non-null  object \n",
      " 3   DOM                  318819 non-null  float64\n",
      " 4   totalPrice           318819 non-null  float64\n",
      " 5   square               318819 non-null  float64\n",
      " 6   livingRoom           318819 non-null  object \n",
      " 7   drawingRoom          318819 non-null  object \n",
      " 8   kitchen              318819 non-null  int64  \n",
      " 9   bathRoom             318819 non-null  object \n",
      " 10  floor                318819 non-null  object \n",
      " 11  constructionTime     318819 non-null  object \n",
      " 12  renovationCondition  318819 non-null  int64  \n",
      " 13  buildingStructure    318819 non-null  int64  \n",
      " 14  ladderRatio          318819 non-null  float64\n",
      " 15  elevator             318819 non-null  float64\n",
      " 16  subway               318819 non-null  float64\n",
      " 17  district             318819 non-null  int64  \n",
      "dtypes: float64(8), int64(4), object(6)\n",
      "memory usage: 46.2+ MB\n"
     ]
    }
   ],
   "source": [
    "housing_no_missing.info()"
   ],
   "metadata": {
    "collapsed": false,
    "ExecuteTime": {
     "end_time": "2024-03-27T14:06:46.036469100Z",
     "start_time": "2024-03-27T14:06:45.859269400Z"
    }
   }
  },
  {
   "cell_type": "markdown",
   "source": [
    "# Changing categorical columns from given number to string value\n",
    "### NEW VALUES:\n",
    "<center>\n",
    "<table>\n",
    "<tr>\n",
    "    <td><b><code>elevator</code></b></td>\n",
    "</tr>\n",
    "<tr>\n",
    "<td>1</td> <td>'has elevator'</td>\n",
    "</tr>\n",
    "<tr>\n",
    "<td>0</td> <td>'no elevator'</td>\n",
    "</tr>\n",
    "</table>\n",
    "\n",
    "<br>\n",
    "\n",
    "<table>\n",
    "<tr>\n",
    "    <td><b><code>subway</code></b></td>\n",
    "</tr>\n",
    "<tr>\n",
    "<td>1</td> <td>'has subway'</td>\n",
    "</tr>\n",
    "<tr>\n",
    "<td>0</td> <td>'no subway'</td>\n",
    "</tr>\n",
    "</table>\n",
    "<br>\n",
    "\n",
    "\n",
    "<table>\n",
    "<tr>\n",
    "<td><b><code>buildingStructure</code></b></td>\n",
    "</tr>\n",
    "<tr>\n",
    "<td>1</td> <td>'unknown'</td>\n",
    "</tr>\n",
    "<tr>\n",
    "<td>2</td> <td>'mixed'</td>\n",
    "</tr>\n",
    "\n",
    "<tr>\n",
    "<td>3</td> <td>'brick and wood' </td>\n",
    "</tr>\n",
    "\n",
    "<tr>\n",
    "<td>4</td> <td>'concrete'</td>\n",
    "</tr>\n",
    "\n",
    "<tr>\n",
    "<td>5</td> <td>'steel'</td>\n",
    "</tr>\n",
    "\n",
    "<tr>\n",
    "<td>6</td> <td>'steel-concrete composite'</td>\n",
    "</tr>\n",
    "</table>\n",
    "<br>\n",
    "\n",
    "\n",
    "<table>\n",
    "<tr>\n",
    "<td><b><code>renovationCondition</code></b></td>\n",
    "</tr>\n",
    "<tr>\n",
    "<td>1</td> <td>'other'</td>\n",
    "</tr>\n",
    "<tr>\n",
    "<td>2</td> <td>'rough'</td>\n",
    "</tr>\n",
    "\n",
    "<tr>\n",
    "<td>3</td> <td>'Simplicity' </td>\n",
    "</tr>\n",
    "\n",
    "<tr>\n",
    "<td>4</td> <td>'hardcover'</td>\n",
    "</tr>\n",
    "\n",
    "</table>\n",
    "\n",
    "</center>"
   ],
   "metadata": {
    "collapsed": false
   }
  },
  {
   "cell_type": "code",
   "execution_count": 20,
   "outputs": [],
   "source": [
    "# Creating a copy of current housing dataframe\n",
    "housing_categorical = housing_no_missing.copy()\n",
    "# elevator and subway types are float we change them to int first.\n",
    "housing_categorical[[\"elevator\", \"subway\"]] = housing_categorical[[\"elevator\", \"subway\"]].astype(int)\n",
    "# Changing type of selected columns to string (object)\n",
    "housing_categorical[[\"elevator\", \"subway\", \"buildingStructure\", \"renovationCondition\"]] = housing_categorical[[\"elevator\", \"subway\", \"buildingStructure\", \"renovationCondition\"]].astype(str)\n",
    "# Replace numeric values to string values.\n",
    "housing_categorical[\"elevator\"] = housing_categorical[\"elevator\"].replace({'1': 'has elevator', '0': 'no elevator'})\n",
    "housing_categorical[\"subway\"] = housing_categorical[\"subway\"].replace({'1': 'has subway', '0': 'no subway'})\n",
    "housing_categorical[\"buildingStructure\"] = housing_categorical[\"buildingStructure\"].replace({'1': 'unknown', '2': 'mixed', '3': 'brick and wood', '4': 'concrete', '5': 'steel', '6': 'steel-concrete composite'})\n",
    "housing_categorical[\"renovationCondition\"] = housing_categorical[\"renovationCondition\"].replace({'1': 'other', '2': 'rough', '3': 'Simplicity', '4': 'hardcover'})"
   ],
   "metadata": {
    "collapsed": false,
    "ExecuteTime": {
     "end_time": "2024-03-27T14:29:12.577411800Z",
     "start_time": "2024-03-27T14:29:11.496064Z"
    }
   }
  },
  {
   "cell_type": "code",
   "execution_count": 22,
   "outputs": [
    {
     "data": {
      "text/plain": "       elevator      subway         buildingStructure renovationCondition\n0  has elevator  has subway  steel-concrete composite          Simplicity\n1  has elevator   no subway  steel-concrete composite           hardcover\n2  has elevator   no subway  steel-concrete composite          Simplicity\n3  has elevator   no subway  steel-concrete composite               other\n4   no elevator  has subway                     mixed               rough",
      "text/html": "<div>\n<style scoped>\n    .dataframe tbody tr th:only-of-type {\n        vertical-align: middle;\n    }\n\n    .dataframe tbody tr th {\n        vertical-align: top;\n    }\n\n    .dataframe thead th {\n        text-align: right;\n    }\n</style>\n<table border=\"1\" class=\"dataframe\">\n  <thead>\n    <tr style=\"text-align: right;\">\n      <th></th>\n      <th>elevator</th>\n      <th>subway</th>\n      <th>buildingStructure</th>\n      <th>renovationCondition</th>\n    </tr>\n  </thead>\n  <tbody>\n    <tr>\n      <th>0</th>\n      <td>has elevator</td>\n      <td>has subway</td>\n      <td>steel-concrete composite</td>\n      <td>Simplicity</td>\n    </tr>\n    <tr>\n      <th>1</th>\n      <td>has elevator</td>\n      <td>no subway</td>\n      <td>steel-concrete composite</td>\n      <td>hardcover</td>\n    </tr>\n    <tr>\n      <th>2</th>\n      <td>has elevator</td>\n      <td>no subway</td>\n      <td>steel-concrete composite</td>\n      <td>Simplicity</td>\n    </tr>\n    <tr>\n      <th>3</th>\n      <td>has elevator</td>\n      <td>no subway</td>\n      <td>steel-concrete composite</td>\n      <td>other</td>\n    </tr>\n    <tr>\n      <th>4</th>\n      <td>no elevator</td>\n      <td>has subway</td>\n      <td>mixed</td>\n      <td>rough</td>\n    </tr>\n  </tbody>\n</table>\n</div>"
     },
     "execution_count": 22,
     "metadata": {},
     "output_type": "execute_result"
    }
   ],
   "source": [
    "housing_categorical[[\"elevator\", \"subway\", \"buildingStructure\", \"renovationCondition\"]].head()"
   ],
   "metadata": {
    "collapsed": false,
    "ExecuteTime": {
     "end_time": "2024-03-27T14:30:44.464171500Z",
     "start_time": "2024-03-27T14:30:44.445509200Z"
    }
   }
  },
  {
   "cell_type": "markdown",
   "source": [
    "# Some columns have numeric values but their type is 'object' we should replace them with numeric values"
   ],
   "metadata": {
    "collapsed": false
   }
  },
  {
   "cell_type": "code",
   "execution_count": 24,
   "outputs": [
    {
     "name": "stdout",
     "output_type": "stream",
     "text": [
      "<class 'pandas.core.frame.DataFrame'>\n",
      "Index: 318819 entries, 0 to 318850\n",
      "Data columns (total 18 columns):\n",
      " #   Column               Non-Null Count   Dtype  \n",
      "---  ------               --------------   -----  \n",
      " 0   Lng                  318819 non-null  float64\n",
      " 1   Lat                  318819 non-null  float64\n",
      " 2   tradeTime            318819 non-null  object \n",
      " 3   DOM                  318819 non-null  float64\n",
      " 4   totalPrice           318819 non-null  float64\n",
      " 5   square               318819 non-null  float64\n",
      " 6   livingRoom           318819 non-null  object \n",
      " 7   drawingRoom          318819 non-null  object \n",
      " 8   kitchen              318819 non-null  int64  \n",
      " 9   bathRoom             318819 non-null  object \n",
      " 10  floor                318819 non-null  object \n",
      " 11  constructionTime     318819 non-null  object \n",
      " 12  renovationCondition  318819 non-null  object \n",
      " 13  buildingStructure    318819 non-null  object \n",
      " 14  ladderRatio          318819 non-null  float64\n",
      " 15  elevator             318819 non-null  object \n",
      " 16  subway               318819 non-null  object \n",
      " 17  district             318819 non-null  int64  \n",
      "dtypes: float64(6), int64(2), object(10)\n",
      "memory usage: 46.2+ MB\n"
     ]
    }
   ],
   "source": [
    "housing_categorical.info()"
   ],
   "metadata": {
    "collapsed": false,
    "ExecuteTime": {
     "end_time": "2024-03-27T14:37:12.294014Z",
     "start_time": "2024-03-27T14:37:12.204307200Z"
    }
   }
  },
  {
   "cell_type": "markdown",
   "source": [
    "### Some unique values in these columns:"
   ],
   "metadata": {
    "collapsed": false
   }
  },
  {
   "cell_type": "code",
   "execution_count": 25,
   "outputs": [
    {
     "name": "stdout",
     "output_type": "stream",
     "text": [
      "constructionTime :  ['2005' '2004' '2008' '1960' '1997' '2009' '2006' '1991' '2001' '1990'\n",
      " '2011' '2000' '1998' '2010' '1996' '1993' '2002' '未知' '2012' '1989'\n",
      " '2003' '2007' '1994' '1984' '1992' '2014' '1985' '2013' '1999' '1979'\n",
      " '1981' '1976' '1982' '1975' '1983' '1986' '1995' '1965' '1988' '1987'\n",
      " '2015' '1955' '1980' '1978' '1958' '1970' '1956' '1977' '1964' '1963'\n",
      " '1967' '2016' '1974' '1973' '1959' '1954' '1962' '1966' '1957' '1944'\n",
      " '1972' '1971' '1953' '1968' '1961' '1950' '1952' '1933' '1969' '1906'\n",
      " '1934' '1914']\n",
      "floor :  ['高 26' '高 22' '中 4' '底 21' '中 6' '中 8' '高 6' '高 10' '中 23' '底 11' '底 3'\n",
      " '高 24' '低 23' '中 19' '高 18' '低 25' '中 12' '中 14' '中 30' '中 27' '中 5'\n",
      " '低 18' '底 28' '中 11' '低 9' '顶 7' '顶 27' '低 6' '中 17' '顶 6' '中 24' '中 15'\n",
      " '底 5' '中 29' '顶 19' '顶 5' '中 9' '低 22' '顶 18' '低 16' '高 13' '高 9' '高 17'\n",
      " '底 6' '中 28' '低 26' '底 15' '高 16' '底 2' '低 7' '中 13' '低 33' '底 14' '高 15'\n",
      " '底 4' '顶 11' '中 32' '顶 16' '底 18' '顶 17' '低 14' '低 10' '底 20' '高 12'\n",
      " '低 31' '低 30' '低 19' '低 12' '中 10' '中 16' '顶 20' '底 19' '中 31' '低 13'\n",
      " '底 10' '高 25' '中 21' '中 20' '高 20' '低 21' '低 24' '顶 4' '高 21' '高 7'\n",
      " '中 22' '底 1' '中 7' '底 8' '顶 15' '中 18' '高 28' '顶 14' '顶 13' '低 20' '底 26'\n",
      " '低 17' '顶 24' '底 23' '顶 3' '顶 21' '底 24' '高 30' '高 11' '底 25' '高 27'\n",
      " '底 9' '低 11' '低 28' '低 15' '顶 26' '低 34' '顶 12' '中 25' '高 8' '底 17'\n",
      " '高 32' '高 19' '底 7' '顶 28' '顶 9' '高 31' '中 26' '顶 2' '顶 8' '底 32' '中 42'\n",
      " '底 30' '低 32' '底 16' '低 3' '底 22' '高 14' '高 23' '底 27' '底 13' '低 27'\n",
      " '顶 23' '低 29' '顶 22' '高 29' '中 34' '顶 25' '高 34' '顶 10' '低 37' '底 12'\n",
      " '未知 6' '顶 32' '低 42' '顶 30' '底 33' '高 42' '低 8' '高 33' '中 33' '顶 29'\n",
      " '底 29' '未知 15' '高 37' '低 36' '低 35' '顶 34' '高 36' '中 37' '中 35' '底 31'\n",
      " '未知 12' '顶 31' '低 63' '未知 21' '底 34' '中 57' '顶 33' '未知 11' '未知 7' '未知 10'\n",
      " '未知 18' '未知 8' '未知 14' '未知 4' '未知 5' '未知 3' '未知 27' '未知 25' '未知 20'\n",
      " '未知 26' '未知 9' '未知 22' '未知 23' '未知 16' '未知 19' '未知 28' '中 36' '未知 17'\n",
      " '未知 13' '低 2' '未知 29' '未知 24' '未知 30' '未知 31' '低 5']\n"
     ]
    }
   ],
   "source": [
    "print('constructionTime : ',housing_categorical.constructionTime.unique())\n",
    "print('floor : ',housing_categorical.floor.unique())"
   ],
   "metadata": {
    "collapsed": false,
    "ExecuteTime": {
     "end_time": "2024-03-27T14:37:59.695459100Z",
     "start_time": "2024-03-27T14:37:59.658546500Z"
    }
   }
  },
  {
   "cell_type": "markdown",
   "source": [
    "<p dir=rtl style=\"direction: rtl;text-align: justify;line-height:200%;font-family:vazir;font-size:medium\">\n",
    "<font face=\"vazir\" size=5>\n",
    "some of values in <code>constructionTime</code> column are china characters which means <code>Unknown</code> we can replace them with mean or mode but for this case we remove houses which have unknown <code>constructionTime</code>\n",
    "</font>\n",
    "</p>"
   ],
   "metadata": {
    "collapsed": false
   }
  },
  {
   "cell_type": "code",
   "execution_count": 38,
   "outputs": [],
   "source": [
    "housing_construction = housing_categorical.copy()\n",
    "# Delete rows which have character value in this column.\n",
    "housing_construction = housing_construction[housing_construction[\"constructionTime\"].str.isdigit()]\n",
    "# Change type of this column to integer.\n",
    "housing_construction[\"constructionTime\"] = housing_construction[\"constructionTime\"].astype(int)"
   ],
   "metadata": {
    "collapsed": false,
    "ExecuteTime": {
     "end_time": "2024-03-27T14:52:39.413844600Z",
     "start_time": "2024-03-27T14:52:39.273155100Z"
    }
   }
  },
  {
   "cell_type": "code",
   "execution_count": 39,
   "outputs": [
    {
     "data": {
      "text/plain": "dtype('int32')"
     },
     "execution_count": 39,
     "metadata": {},
     "output_type": "execute_result"
    }
   ],
   "source": [
    "housing_construction.constructionTime.dtype"
   ],
   "metadata": {
    "collapsed": false,
    "ExecuteTime": {
     "end_time": "2024-03-27T14:52:41.685450900Z",
     "start_time": "2024-03-27T14:52:41.672484400Z"
    }
   }
  },
  {
   "cell_type": "code",
   "execution_count": 42,
   "outputs": [
    {
     "name": "stdout",
     "output_type": "stream",
     "text": [
      "[2005 2004 2008 1960 1997 2009 2006 1991 2001 1990 2011 2000 1998 2010\n",
      " 1996 1993 2002 2012 1989 2003 2007 1994 1984 1992 2014 1985 2013 1999\n",
      " 1979 1981 1976 1982 1975 1983 1986 1995 1965 1988 1987 2015 1955 1980\n",
      " 1978 1958 1970 1956 1977 1964 1963 1967 2016 1974 1973 1959 1954 1962\n",
      " 1966 1957 1944 1972 1971 1953 1968 1961 1950 1952 1933 1969 1906 1934\n",
      " 1914]\n"
     ]
    }
   ],
   "source": [
    "print(housing_construction.constructionTime.unique())"
   ],
   "metadata": {
    "collapsed": false,
    "ExecuteTime": {
     "end_time": "2024-03-27T14:53:02.491123400Z",
     "start_time": "2024-03-27T14:53:02.482074800Z"
    }
   }
  }
 ],
 "metadata": {
  "kernelspec": {
   "name": "queraenv",
   "language": "python",
   "display_name": "QueraEnv"
  },
  "language_info": {
   "codemirror_mode": {
    "name": "ipython",
    "version": 2
   },
   "file_extension": ".py",
   "mimetype": "text/x-python",
   "name": "python",
   "nbconvert_exporter": "python",
   "pygments_lexer": "ipython2",
   "version": "2.7.6"
  }
 },
 "nbformat": 4,
 "nbformat_minor": 0
}
